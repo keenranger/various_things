{
  "nbformat": 4,
  "nbformat_minor": 0,
  "metadata": {
    "colab": {
      "name": "승재과제_mnist_cnn",
      "version": "0.3.2",
      "provenance": [],
      "collapsed_sections": [],
      "include_colab_link": true
    },
    "kernelspec": {
      "name": "python3",
      "display_name": "Python 3"
    },
    "accelerator": "GPU"
  },
  "cells": [
    {
      "cell_type": "markdown",
      "metadata": {
        "id": "view-in-github",
        "colab_type": "text"
      },
      "source": [
        "<a href=\"https://colab.research.google.com/github/keenranger/various_things/blob/master/%EC%8A%B9%EC%9E%AC%EA%B3%BC%EC%A0%9C_mnist_cnn.ipynb\" target=\"_parent\"><img src=\"https://colab.research.google.com/assets/colab-badge.svg\" alt=\"Open In Colab\"/></a>"
      ]
    },
    {
      "cell_type": "code",
      "metadata": {
        "id": "22s2fjP7uKMz",
        "colab_type": "code",
        "colab": {
          "base_uri": "https://localhost:8080/",
          "height": 35
        },
        "outputId": "f6fa7c22-253b-422e-ccca-f2178c9a0c03"
      },
      "source": [
        "import numpy as np\n",
        "import tensorflow as tf\n",
        "import matplotlib.pyplot as plt\n",
        "from tensorflow.examples.tutorials.mnist import input_data\n",
        "from skimage import transform\n",
        "\n",
        "tf.test.gpu_device_name()"
      ],
      "execution_count": 17,
      "outputs": [
        {
          "output_type": "execute_result",
          "data": {
            "text/plain": [
              "'/device:GPU:0'"
            ]
          },
          "metadata": {
            "tags": []
          },
          "execution_count": 17
        }
      ]
    },
    {
      "cell_type": "code",
      "metadata": {
        "id": "VTBCUCedVZlZ",
        "colab_type": "code",
        "colab": {}
      },
      "source": [
        "def resize_batch(imgs):\n",
        "    imgs = imgs.reshape((-1, 28, 28, 1))\n",
        "    resized_imgs = np.zeros((imgs.shape[0], 32, 32, 1))\n",
        "    for i in range(imgs.shape[0]):\n",
        "        resized_imgs[i, ..., 0] = transform.resize(imgs[i, ..., 0], (32, 32))\n",
        "    return resized_imgs"
      ],
      "execution_count": 0,
      "outputs": []
    },
    {
      "cell_type": "code",
      "metadata": {
        "id": "rn10zBsOuRvZ",
        "colab_type": "code",
        "colab": {
          "base_uri": "https://localhost:8080/",
          "height": 89
        },
        "outputId": "7ef30e55-1e1b-4f73-bd9b-298370311fb9"
      },
      "source": [
        "mnist = input_data.read_data_sets(\"MNIST_data/\", one_hot=True)"
      ],
      "execution_count": 19,
      "outputs": [
        {
          "output_type": "stream",
          "text": [
            "Extracting MNIST_data/train-images-idx3-ubyte.gz\n",
            "Extracting MNIST_data/train-labels-idx1-ubyte.gz\n",
            "Extracting MNIST_data/t10k-images-idx3-ubyte.gz\n",
            "Extracting MNIST_data/t10k-labels-idx1-ubyte.gz\n"
          ],
          "name": "stdout"
        }
      ]
    },
    {
      "cell_type": "code",
      "metadata": {
        "id": "KLHzOFRfzJNn",
        "colab_type": "code",
        "colab": {}
      },
      "source": [
        "X = tf.placeholder(dtype=tf.float32, shape=[None, 32, 32, 1])\n",
        "Y = tf.placeholder(dtype=tf.float32, shape=[None, 10])\n"
      ],
      "execution_count": 0,
      "outputs": []
    },
    {
      "cell_type": "code",
      "metadata": {
        "id": "gsNK6VINuRyL",
        "colab_type": "code",
        "colab": {}
      },
      "source": [
        "W1 = tf.Variable(tf.random_normal([5,5,1,6], stddev=0.01,dtype=tf.float32), tf.contrib.layers.xavier_initializer_conv2d())\n",
        "conv2d_1=tf.nn.conv2d(X, W1, strides=[1, 1, 1, 1], padding='VALID')\n",
        "relu_1=tf.nn.relu(conv2d_1)\n",
        "pool_1= tf.nn.max_pool(relu_1, ksize=[1, 2, 2, 1], strides=[1, 2, 2, 1], padding='SAME')\n",
        "\n",
        "W2 = tf.Variable(tf.random_normal([5,5,6,16], stddev=0.01,dtype=tf.float32), tf.contrib.layers.xavier_initializer_conv2d())\n",
        "conv2d_2 = tf.nn.conv2d(pool_1, W2, strides=[1, 1, 1, 1], padding='VALID')\n",
        "relu_2=tf.nn.relu(conv2d_2)\n",
        "pool_2 = tf.nn.max_pool(relu_2, ksize=[1, 2, 2, 1], strides=[1, 2, 2, 1], padding='SAME')\n",
        "\n",
        "FC=tf.contrib.layers.flatten(pool_2)"
      ],
      "execution_count": 0,
      "outputs": []
    },
    {
      "cell_type": "code",
      "metadata": {
        "id": "jjtsde7euR1d",
        "colab_type": "code",
        "colab": {}
      },
      "source": [
        "W3=tf.Variable(tf.random_normal([400, 120],stddev=0.01,dtype=tf.float32), tf.contrib.layers.xavier_initializer())\n",
        "b3=tf.Variable(tf.zeros([120],dtype=tf.float32))\n",
        "Z1= tf.nn.relu(tf.matmul(FC,W3)+b3)\n",
        "\n",
        "W4=tf.Variable(tf.random_normal([120, 84],stddev=0.01,dtype=tf.float32), tf.contrib.layers.xavier_initializer())\n",
        "b4=tf.Variable(tf.zeros([84],dtype=tf.float32))\n",
        "Z2= tf.nn.relu(tf.matmul(Z1,W4)+b4)\n",
        "\n",
        "W5=tf.Variable(tf.random_normal([84, 10],stddev=0.01,dtype=tf.float32), tf.contrib.layers.xavier_initializer())\n",
        "b5=tf.Variable(tf.zeros([10],dtype=tf.float32))\n",
        "S= tf.matmul(Z2,W5)+b5"
      ],
      "execution_count": 0,
      "outputs": []
    },
    {
      "cell_type": "code",
      "metadata": {
        "id": "zrwV1hF-uR3w",
        "colab_type": "code",
        "colab": {}
      },
      "source": [
        "hypothesis = tf.nn.softmax_cross_entropy_with_logits_v2(logits=S, labels=Y)\n",
        "\n",
        "loss = tf.reduce_mean(hypothesis)\n",
        "\n",
        "corrects = tf.equal(tf.argmax(S, axis=1), tf.argmax(Y, axis=1))\n",
        "accuracy = tf.reduce_mean(tf.cast(corrects, tf.float32))\n"
      ],
      "execution_count": 0,
      "outputs": []
    },
    {
      "cell_type": "code",
      "metadata": {
        "id": "qqLwXLheublx",
        "colab_type": "code",
        "colab": {
          "base_uri": "https://localhost:8080/",
          "height": 395
        },
        "outputId": "3a8c284d-37d3-49af-917c-2bff28751fd6"
      },
      "source": [
        "LEARNING_RATE = 0.0005\n",
        "EPOCHS = 20\n",
        "BATCH_SIZE = 100\n",
        "\n",
        "optimizer = tf.train.AdamOptimizer(LEARNING_RATE).minimize(loss)\n",
        "\n",
        "with tf.Session() as sess:\n",
        "    sess.run(tf.global_variables_initializer())\n",
        "    \n",
        "    for epoch in range(EPOCHS):\n",
        "        for temp in range(int(mnist.train.num_examples / BATCH_SIZE)):\n",
        "            X_batch, Y_batch = mnist.train.next_batch(BATCH_SIZE)\n",
        "           # print(X_batch.shape)\n",
        "            X_batch = resize_batch(X_batch)\n",
        "            #print(X_batch.shape)\n",
        "            sess.run(optimizer, feed_dict={X: X_batch, Y: Y_batch})\n",
        "        if (epoch+1) % 1 == 0:\n",
        "            acc_val = sess.run(accuracy,\n",
        "              feed_dict={X: resize_batch(mnist.test.images),\n",
        "                  Y: mnist.test.labels})\n",
        "        \n",
        "            print(\"epoch: {:04d}, accuracy: {:.4f}\".format(epoch+1, acc_val))\n",
        "    print(\"Learning finished.\")\n",
        "\n",
        "     \n",
        "                                    "
      ],
      "execution_count": 26,
      "outputs": [
        {
          "output_type": "stream",
          "text": [
            "epoch: 0001, accuracy: 0.8893\n",
            "epoch: 0002, accuracy: 0.9395\n",
            "epoch: 0003, accuracy: 0.9580\n",
            "epoch: 0004, accuracy: 0.9614\n",
            "epoch: 0005, accuracy: 0.9715\n",
            "epoch: 0006, accuracy: 0.9746\n",
            "epoch: 0007, accuracy: 0.9769\n",
            "epoch: 0008, accuracy: 0.9803\n",
            "epoch: 0009, accuracy: 0.9814\n",
            "epoch: 0010, accuracy: 0.9844\n",
            "epoch: 0011, accuracy: 0.9859\n",
            "epoch: 0012, accuracy: 0.9835\n",
            "epoch: 0013, accuracy: 0.9872\n",
            "epoch: 0014, accuracy: 0.9864\n",
            "epoch: 0015, accuracy: 0.9863\n",
            "epoch: 0016, accuracy: 0.9891\n",
            "epoch: 0017, accuracy: 0.9861\n",
            "epoch: 0018, accuracy: 0.9885\n",
            "epoch: 0019, accuracy: 0.9863\n",
            "epoch: 0020, accuracy: 0.9868\n",
            "Learning finished.\n"
          ],
          "name": "stdout"
        }
      ]
    },
    {
      "cell_type": "code",
      "metadata": {
        "id": "Fxg7odQ9u8Tr",
        "colab_type": "code",
        "colab": {}
      },
      "source": [
        ""
      ],
      "execution_count": 0,
      "outputs": []
    }
  ]
}